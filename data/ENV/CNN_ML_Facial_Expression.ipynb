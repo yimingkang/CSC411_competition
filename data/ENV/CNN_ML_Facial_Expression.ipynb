{
 "cells": [
  {
   "cell_type": "code",
   "execution_count": 1,
   "metadata": {
    "collapsed": false
   },
   "outputs": [
    {
     "name": "stdout",
     "output_type": "stream",
     "text": [
      "Populating the interactive namespace from numpy and matplotlib\n"
     ]
    }
   ],
   "source": [
    "import os\n",
    "import matplotlib.pyplot as plt\n",
    "%pylab inline\n",
    "import numpy as np\n",
    "from lasagne.layers import DenseLayer\n",
    "from lasagne.layers import InputLayer\n",
    "from lasagne.layers import DropoutLayer\n",
    "from lasagne.layers import Conv2DLayer\n",
    "from lasagne.layers import MaxPool2DLayer\n",
    "from lasagne.nonlinearities import softmax\n",
    "from lasagne.updates import adam\n",
    "from lasagne.layers import get_all_params\n",
    "from nolearn.lasagne import NeuralNet\n",
    "from nolearn.lasagne import TrainSplit\n",
    "from nolearn.lasagne import objective"
   ]
  },
  {
   "cell_type": "code",
   "execution_count": 65,
   "metadata": {
    "collapsed": false
   },
   "outputs": [
    {
     "name": "stdout",
     "output_type": "stream",
     "text": [
      "Shape of tr_images is:  (2925, 2560)\n"
     ]
    }
   ],
   "source": [
    "import scipy.io\n",
    "'''\n",
    "train = scipy.io.loadmat('labeled_images.mat')\n",
    "print \"Shape of tr_images is: \", train[\"tr_images\"].shape\n",
    "(x_size, y_size, n_images) = train[\"tr_images\"].shape\n",
    "X = np.reshape(np.swapaxes(train[\"tr_images\"], 0, 2), (n_images, 1, x_size, y_size))\n",
    "y = train[\"tr_labels\"].ravel()-1\n",
    "print X.shape\n",
    "print y.shape\n",
    "X = np.array(X).astype(np.float32)\n",
    "y = np.array(y).astype(np.int32)\n",
    "# Normalization\n",
    "X -= X.mean()\n",
    "X /= X.std()\n",
    "print X[0].shape\n",
    "print y.shape\n",
    "'''\n",
    "\n",
    "train = scipy.io.loadmat('filtered_testimg.mat')\n",
    "train_original = scipy.io.loadmat('labeled_images.mat')\n",
    "\n",
    "print \"Shape of tr_images is: \", train[\"tr_images\"].shape\n",
    "# (x, y, n_images) = train[\"tr_images\"].shape\n",
    "(n_images, dim) = train[\"tr_images\"].shape\n",
    "y = train_original[\"tr_labels\"].ravel()-1\n",
    "\n",
    "# train_img = np.reshape(np.swapaxes(train[\"tr_images\"], 0, 2), (n_images, x * y))\n",
    "X = np.reshape(train['tr_images'], (n_images, 1, dim, 1))\n",
    "y = np.array(y).astype(np.int32)\n",
    "X = np.array(X).astype(np.float32)\n",
    "X -= X.mean()\n",
    "X /= X.std()\n",
    "\n",
    "#plt.imshow(np.swapaxes(np.reshape(train_img[0], (y, x)), 0, 1), cmap=pylab.gray())\n",
    "#plt.show()\n",
    "\n",
    "\n",
    "\n",
    "#plt.imshow(np.swapaxes(np.reshape(X[0], (y_size, x_size)), 0, 1), cmap=pylab.gray())\n",
    "#plt.show()"
   ]
  },
  {
   "cell_type": "code",
   "execution_count": 66,
   "metadata": {
    "collapsed": false
   },
   "outputs": [
    {
     "ename": "ValueError",
     "evalue": "total size of new array must be unchanged",
     "output_type": "error",
     "traceback": [
      "\u001b[0;31m---------------------------------------------------------------------------\u001b[0m",
      "\u001b[0;31mValueError\u001b[0m                                Traceback (most recent call last)",
      "\u001b[0;32m<ipython-input-66-97195b50896d>\u001b[0m in \u001b[0;36m<module>\u001b[0;34m()\u001b[0m\n\u001b[1;32m      3\u001b[0m \u001b[0;32mfor\u001b[0m \u001b[0mi\u001b[0m \u001b[0;32min\u001b[0m \u001b[0mrange\u001b[0m\u001b[0;34m(\u001b[0m\u001b[0;36m4\u001b[0m\u001b[0;34m)\u001b[0m\u001b[0;34m:\u001b[0m\u001b[0;34m\u001b[0m\u001b[0m\n\u001b[1;32m      4\u001b[0m     \u001b[0;32mfor\u001b[0m \u001b[0mj\u001b[0m \u001b[0;32min\u001b[0m \u001b[0mrange\u001b[0m\u001b[0;34m(\u001b[0m\u001b[0;36m4\u001b[0m\u001b[0;34m)\u001b[0m\u001b[0;34m:\u001b[0m\u001b[0;34m\u001b[0m\u001b[0m\n\u001b[0;32m----> 5\u001b[0;31m         \u001b[0maxes\u001b[0m\u001b[0;34m[\u001b[0m\u001b[0mi\u001b[0m\u001b[0;34m,\u001b[0m \u001b[0mj\u001b[0m\u001b[0;34m]\u001b[0m\u001b[0;34m.\u001b[0m\u001b[0mimshow\u001b[0m\u001b[0;34m(\u001b[0m\u001b[0;34m-\u001b[0m\u001b[0mX\u001b[0m\u001b[0;34m[\u001b[0m\u001b[0mi\u001b[0m \u001b[0;34m+\u001b[0m \u001b[0;36m4\u001b[0m \u001b[0;34m*\u001b[0m \u001b[0mj\u001b[0m\u001b[0;34m]\u001b[0m\u001b[0;34m.\u001b[0m\u001b[0mreshape\u001b[0m\u001b[0;34m(\u001b[0m\u001b[0;36m32\u001b[0m\u001b[0;34m,\u001b[0m \u001b[0;36m32\u001b[0m\u001b[0;34m)\u001b[0m\u001b[0;34m,\u001b[0m \u001b[0mcmap\u001b[0m\u001b[0;34m=\u001b[0m\u001b[0;34m'gray'\u001b[0m\u001b[0;34m,\u001b[0m \u001b[0minterpolation\u001b[0m\u001b[0;34m=\u001b[0m\u001b[0;34m'none'\u001b[0m\u001b[0;34m)\u001b[0m\u001b[0;34m\u001b[0m\u001b[0m\n\u001b[0m\u001b[1;32m      6\u001b[0m         \u001b[0maxes\u001b[0m\u001b[0;34m[\u001b[0m\u001b[0mi\u001b[0m\u001b[0;34m,\u001b[0m \u001b[0mj\u001b[0m\u001b[0;34m]\u001b[0m\u001b[0;34m.\u001b[0m\u001b[0mset_xticks\u001b[0m\u001b[0;34m(\u001b[0m\u001b[0;34m[\u001b[0m\u001b[0;34m]\u001b[0m\u001b[0;34m)\u001b[0m\u001b[0;34m\u001b[0m\u001b[0m\n\u001b[1;32m      7\u001b[0m         \u001b[0maxes\u001b[0m\u001b[0;34m[\u001b[0m\u001b[0mi\u001b[0m\u001b[0;34m,\u001b[0m \u001b[0mj\u001b[0m\u001b[0;34m]\u001b[0m\u001b[0;34m.\u001b[0m\u001b[0mset_yticks\u001b[0m\u001b[0;34m(\u001b[0m\u001b[0;34m[\u001b[0m\u001b[0;34m]\u001b[0m\u001b[0;34m)\u001b[0m\u001b[0;34m\u001b[0m\u001b[0m\n",
      "\u001b[0;31mValueError\u001b[0m: total size of new array must be unchanged"
     ]
    },
    {
     "data": {
      "image/png": "[encoded data removed]",
      "text/plain": [
       "<matplotlib.figure.Figure at 0x1132e4050>"
      ]
     },
     "metadata": {},
     "output_type": "display_data"
    }
   ],
   "source": [
    "# Show labels of the dataset\n",
    "figs, axes = plt.subplots(4, 4, figsize=(6, 6))\n",
    "for i in range(4):\n",
    "    for j in range(4):\n",
    "        axes[i, j].imshow(-X[i + 4 * j].reshape(32, 32), cmap='gray', interpolation='none')\n",
    "        axes[i, j].set_xticks([])\n",
    "        axes[i, j].set_yticks([])\n",
    "        axes[i, j].set_title(\"Label: {}\".format(y[i + 4 * j]))\n",
    "        axes[i, j].axis('off')"
   ]
  },
  {
   "cell_type": "code",
   "execution_count": 111,
   "metadata": {
    "collapsed": true
   },
   "outputs": [],
   "source": [
    "layers0 = [\n",
    "    # layer dealing with the input data\n",
    "    (InputLayer, {'shape': (None, X.shape[1], X.shape[2], X.shape[3])}),\n",
    "\n",
    "    # first stage of our convolutional layers\n",
    "    (Conv2DLayer, {'num_filters': 96, 'filter_size': 5}),\n",
    "    (Conv2DLayer, {'num_filters': 96, 'filter_size': 3}),\n",
    "    (Conv2DLayer, {'num_filters': 96, 'filter_size': 3}),\n",
    "    (Conv2DLayer, {'num_filters': 96, 'filter_size': 3}),\n",
    "    (Conv2DLayer, {'num_filters': 96, 'filter_size': 3}),\n",
    "    (MaxPool2DLayer, {'pool_size': 2}),\n",
    "\n",
    "    # second stage of our convolutional layers\n",
    "    (Conv2DLayer, {'num_filters': 128, 'filter_size': 3}),\n",
    "    (Conv2DLayer, {'num_filters': 128, 'filter_size': 3}),\n",
    "    (Conv2DLayer, {'num_filters': 128, 'filter_size': 3}),\n",
    "    (MaxPool2DLayer, {'pool_size': 2}),\n",
    "\n",
    "    # two dense layers with dropout\n",
    "    (DenseLayer, {'num_units': 64}),\n",
    "    (DropoutLayer, {}),\n",
    "    (DenseLayer, {'num_units': 64}),\n",
    "\n",
    "    # the output layer\n",
    "    (DenseLayer, {'num_units': 7, 'nonlinearity': softmax}),\n",
    "]\n",
    "\n",
    "layers1 = [\n",
    "    # layer dealing with the input data\n",
    "    (InputLayer, {'shape': (None, X.shape[1], X.shape[2], X.shape[3])}),\n",
    "\n",
    "    # first stage of our convolutional layers\n",
    "    (Conv2DLayer, {'num_filters': 48, 'filter_size': 5}),\n",
    "    (Conv2DLayer, {'num_filters': 48, 'filter_size': 3}),\n",
    "    (Conv2DLayer, {'num_filters': 48, 'filter_size': 3}),\n",
    "    (MaxPool2DLayer, {'pool_size': 2}),\n",
    "\n",
    "    # second stage of our convolutional layers\n",
    "    (Conv2DLayer, {'num_filters': 64, 'filter_size': 5}),\n",
    "    (Conv2DLayer, {'num_filters': 64, 'filter_size': 3}),\n",
    "    (MaxPool2DLayer, {'pool_size': 2}),\n",
    "\n",
    "    # two dense layers with dropout\n",
    "    (DenseLayer, {'num_units': 32}),\n",
    "    (DropoutLayer, {}),\n",
    "    (DenseLayer, {'num_units': 32}),\n",
    "\n",
    "    # the output layer\n",
    "    (DenseLayer, {'num_units': 7, 'nonlinearity': softmax}),\n",
    "]\n",
    "\n",
    "layers2 = [\n",
    "    (InputLayer, {'shape': (None, X.shape[1], X.shape[2], X.shape[3])}),\n",
    "\n",
    "    (Conv2DLayer, {'num_filters': 32, 'filter_size': (3, 3)}),\n",
    "    (MaxPool2DLayer, {'pool_size': (2, 2)}),\n",
    "\n",
    "    (Conv2DLayer, {'num_filters': 64, 'filter_size': (3, 3)}),\n",
    "    (Conv2DLayer, {'num_filters': 64, 'filter_size': (3, 3)}),\n",
    "    (MaxPool2DLayer, {'pool_size': (2, 2)}),\n",
    "\n",
    "    (Conv2DLayer, {'num_filters': 96, 'filter_size': (3, 3)}),\n",
    "    (MaxPool2DLayer, {'pool_size': (2, 2)}),\n",
    "\n",
    "    (DenseLayer, {'num_units': 64}),\n",
    "    (DropoutLayer, {}),\n",
    "    (DenseLayer, {'num_units': 64}),\n",
    "\n",
    "    (DenseLayer, {'num_units': 7, 'nonlinearity': softmax}),\n",
    "]\n",
    "\n",
    "layers3 = [\n",
    "    (InputLayer, {'shape': (None, X.shape[1], X.shape[2], X.shape[3])}),\n",
    "    (Conv2DLayer, {'num_filters': 96, 'filter_size': (5, 5)}),\n",
    "    (MaxPool2DLayer, {'pool_size': (2, 2)}),\n",
    "    (Conv2DLayer, {'num_filters': 64, 'filter_size': (5, 5)}),\n",
    "    (MaxPool2DLayer, {'pool_size': (2, 2)}),\n",
    "    (DenseLayer, {'num_units': 64}),\n",
    "    (DenseLayer, {'num_units': 7, 'nonlinearity': softmax}),\n",
    "]\n",
    "\n",
    "layers4 = [\n",
    "    (InputLayer, {'shape': (None, X.shape[1], X.shape[2], X.shape[3])}),\n",
    "    #(Conv2DLayer, {'num_filters': 96, 'filter_size': (5, 5)}),\n",
    "    #(MaxPool2DLayer, {'pool_size': (2, 2)}),\n",
    "    (DenseLayer, {'num_units': 256}),\n",
    "    (DenseLayer, {'num_units': 7, 'nonlinearity': softmax}),\n",
    "]"
   ]
  },
  {
   "cell_type": "code",
   "execution_count": 112,
   "metadata": {
    "collapsed": true
   },
   "outputs": [],
   "source": [
    "def regularization_objective(layers, lambda1=0., lambda2=0., *args, **kwargs):\n",
    "    # default loss\n",
    "    losses = objective(layers, *args, **kwargs)\n",
    "    # get the layers' weights, but only those that should be regularized\n",
    "    # (i.e. not the biases)\n",
    "    weights = get_all_params(layers[-1], regularizable=True)\n",
    "    # sum of absolute weights for L1\n",
    "    sum_abs_weights = sum([abs(w).sum() for w in weights])\n",
    "    # sum of squared weights for L2\n",
    "    sum_squared_weights = sum([(w ** 2).sum() for w in weights])\n",
    "    # add weights to regular loss\n",
    "    losses += lambda1 * sum_abs_weights + lambda2 * sum_squared_weights\n",
    "    return losses"
   ]
  },
  {
   "cell_type": "code",
   "execution_count": 113,
   "metadata": {
    "collapsed": true
   },
   "outputs": [],
   "source": [
    "net0 = NeuralNet(\n",
    "    layers=layers0,\n",
    "    max_epochs=20,\n",
    "\n",
    "    update=adam,\n",
    "    update_learning_rate=0.0002,\n",
    "\n",
    "    objective=regularization_objective,\n",
    "    objective_lambda2=0.0025,\n",
    "\n",
    "    train_split=TrainSplit(eval_size=0.25),\n",
    "    verbose=4,\n",
    ")\n",
    "net1 = NeuralNet(\n",
    "    layers=layers4,\n",
    "    max_epochs=60,\n",
    "    update=adam,\n",
    "    update_learning_rate=0.0001,\n",
    "    objective=regularization_objective,\n",
    "    objective_lambda2=0.0025,\n",
    "    train_split=TrainSplit(eval_size=0.01),\n",
    "    verbose=3,\n",
    ")"
   ]
  },
  {
   "cell_type": "code",
   "execution_count": 114,
   "metadata": {
    "collapsed": false
   },
   "outputs": [
    {
     "name": "stdout",
     "output_type": "stream",
     "text": [
      "# Neural Network with 657415 learnable parameters\n",
      "\n",
      "## Layer information\n",
      "\n",
      "  #  name    size\n",
      "---  ------  --------\n",
      "  0  input0  1x2560x1\n",
      "  1  dense1  256\n",
      "  2  dense2  7\n",
      "\n",
      "  epoch    train loss    valid loss    train/val    valid acc  dur\n",
      "-------  ------------  ------------  -----------  -----------  -----\n",
      "      1       \u001b[36m3.29633\u001b[0m       \u001b[32m2.70623\u001b[0m      1.21805      0.45455  0.75s\n",
      "      2       \u001b[36m2.76200\u001b[0m       \u001b[32m2.61743\u001b[0m      1.05523      0.54545  0.69s\n",
      "      3       \u001b[36m2.57101\u001b[0m       \u001b[32m2.36059\u001b[0m      1.08914      0.51515  0.68s\n",
      "      4       \u001b[36m2.28584\u001b[0m       2.38619      0.95794      0.51515  0.71s\n",
      "      5       \u001b[36m2.03474\u001b[0m       2.36239      0.86131      0.57576  0.86s\n",
      "      6       \u001b[36m1.95231\u001b[0m       \u001b[32m2.27173\u001b[0m      0.85939      0.57576  0.75s\n",
      "      7       \u001b[36m1.90659\u001b[0m       \u001b[32m2.22788\u001b[0m      0.85579      0.57576  0.75s\n",
      "      8       \u001b[36m1.87021\u001b[0m       \u001b[32m2.20489\u001b[0m      0.84821      0.63636  0.78s\n",
      "      9       \u001b[36m1.80296\u001b[0m       2.22578      0.81004      0.63636  0.81s\n",
      "     10       \u001b[36m1.72488\u001b[0m       2.22864      0.77396      0.60606  0.88s\n",
      "     11       \u001b[36m1.66322\u001b[0m       \u001b[32m2.18406\u001b[0m      0.76152      0.66667  0.74s\n",
      "     12       \u001b[36m1.61882\u001b[0m       \u001b[32m2.12999\u001b[0m      0.76002      0.72727  0.66s\n",
      "     13       \u001b[36m1.58555\u001b[0m       \u001b[32m2.08979\u001b[0m      0.75872      0.72727  0.68s\n",
      "     14       \u001b[36m1.55935\u001b[0m       \u001b[32m2.07033\u001b[0m      0.75319      0.72727  0.67s\n",
      "     15       \u001b[36m1.53345\u001b[0m       \u001b[32m2.06959\u001b[0m      0.74094      0.72727  0.67s\n",
      "     16       \u001b[36m1.50639\u001b[0m       2.07424      0.72624      0.69697  0.69s\n",
      "     17       \u001b[36m1.47548\u001b[0m       2.08411      0.70797      0.69697  0.69s\n",
      "     18       \u001b[36m1.44368\u001b[0m       2.08490      0.69245      0.69697  0.73s\n",
      "     19       \u001b[36m1.41348\u001b[0m       2.08361      0.67838      0.72727  0.77s\n",
      "     20       \u001b[36m1.38688\u001b[0m       2.07378      0.66877      0.72727  0.97s\n",
      "     21       \u001b[36m1.36328\u001b[0m       \u001b[32m2.05119\u001b[0m      0.66463      0.72727  0.71s\n",
      "     22       \u001b[36m1.34314\u001b[0m       \u001b[32m2.03578\u001b[0m      0.65977      0.72727  0.70s\n",
      "     23       \u001b[36m1.32292\u001b[0m       \u001b[32m2.01721\u001b[0m      0.65582      0.72727  0.68s\n",
      "     24       \u001b[36m1.30682\u001b[0m       \u001b[32m2.00871\u001b[0m      0.65058      0.69697  0.67s\n",
      "     25       \u001b[36m1.29036\u001b[0m       \u001b[32m2.00000\u001b[0m      0.64518      0.69697  0.67s\n",
      "     26       \u001b[36m1.27632\u001b[0m       2.00005      0.63814      0.69697  0.69s\n",
      "     27       \u001b[36m1.26112\u001b[0m       2.00349      0.62946      0.69697  0.69s\n",
      "     28       \u001b[36m1.24622\u001b[0m       2.01212      0.61935      0.69697  0.69s\n",
      "     29       \u001b[36m1.22989\u001b[0m       2.01369      0.61076      0.66667  0.68s\n",
      "     30       \u001b[36m1.21336\u001b[0m       2.02029      0.60059      0.63636  0.69s\n",
      "     31       \u001b[36m1.19591\u001b[0m       2.03216      0.58849      0.66667  0.70s\n",
      "     32       \u001b[36m1.18045\u001b[0m       2.03278      0.58071      0.66667  0.65s\n",
      "     33       \u001b[36m1.16415\u001b[0m       2.03289      0.57266      0.66667  0.68s\n",
      "     34       \u001b[36m1.15089\u001b[0m       2.01787      0.57035      0.63636  0.71s\n",
      "     35       \u001b[36m1.13693\u001b[0m       \u001b[32m1.99948\u001b[0m      0.56861      0.63636  0.67s\n",
      "     36       \u001b[36m1.12384\u001b[0m       \u001b[32m1.97441\u001b[0m      0.56920      0.63636  0.68s\n",
      "     37       \u001b[36m1.11068\u001b[0m       \u001b[32m1.95669\u001b[0m      0.56763      0.66667  0.69s\n",
      "     38       \u001b[36m1.09941\u001b[0m       \u001b[32m1.93594\u001b[0m      0.56789      0.66667  0.69s\n",
      "     39       \u001b[36m1.09124\u001b[0m       \u001b[32m1.92384\u001b[0m      0.56722      0.66667  0.66s\n",
      "     40       \u001b[36m1.08491\u001b[0m       \u001b[32m1.91110\u001b[0m      0.56769      0.66667  0.68s\n",
      "     41       \u001b[36m1.07929\u001b[0m       \u001b[32m1.91080\u001b[0m      0.56484      0.69697  0.71s\n",
      "     42       \u001b[36m1.07361\u001b[0m       1.91836      0.55965      0.69697  0.70s\n",
      "     43       \u001b[36m1.06634\u001b[0m       1.93751      0.55037      0.69697  0.68s\n",
      "     44       \u001b[36m1.05590\u001b[0m       1.96056      0.53857      0.69697  0.69s\n",
      "     45       \u001b[36m1.04314\u001b[0m       1.99709      0.52233      0.66667  0.69s\n",
      "     46       \u001b[36m1.02760\u001b[0m       2.03548      0.50484      0.66667  0.76s\n",
      "     47       \u001b[36m1.01395\u001b[0m       2.09110      0.48489      0.66667  0.77s\n",
      "     48       \u001b[36m1.00444\u001b[0m       2.08437      0.48189      0.66667  1.01s\n",
      "     49       \u001b[36m1.00032\u001b[0m       2.05551      0.48665      0.66667  0.95s\n",
      "     50       \u001b[36m0.99531\u001b[0m       1.96944      0.50538      0.63636  0.75s\n",
      "     51       \u001b[36m0.98094\u001b[0m       \u001b[32m1.89304\u001b[0m      0.51818      0.63636  0.72s\n",
      "     52       \u001b[36m0.96648\u001b[0m       \u001b[32m1.84858\u001b[0m      0.52282      0.72727  0.69s\n",
      "     53       \u001b[36m0.96289\u001b[0m       \u001b[32m1.83364\u001b[0m      0.52513      0.75758  0.72s\n",
      "     54       \u001b[36m0.96243\u001b[0m       1.84679      0.52114      0.75758  0.69s\n",
      "     55       \u001b[36m0.96085\u001b[0m       1.87393      0.51274      0.72727  0.67s\n",
      "     56       \u001b[36m0.95498\u001b[0m       1.91934      0.49756      0.66667  0.69s\n",
      "     57       \u001b[36m0.94422\u001b[0m       1.97378      0.47838      0.66667  0.69s\n",
      "     58       \u001b[36m0.92887\u001b[0m       2.04829      0.45349      0.66667  0.69s\n",
      "     59       \u001b[36m0.91251\u001b[0m       2.09742      0.43506      0.66667  0.86s\n",
      "     60       \u001b[36m0.90570\u001b[0m       2.09174      0.43299      0.69697  0.77s\n"
     ]
    },
    {
     "data": {
      "text/plain": [
       "NeuralNet(X_tensor_type=None,\n",
       "     batch_iterator_test=<nolearn.lasagne.base.BatchIterator object at 0x1077bf150>,\n",
       "     batch_iterator_train=<nolearn.lasagne.base.BatchIterator object at 0x1077bf0d0>,\n",
       "     custom_score=None,\n",
       "     layers=[(<class 'lasagne.layers.input.InputLayer'>, {'shape': (None, 1, 2560, 1)}), (<class 'lasagne.layers.dense.DenseLayer'>, {'num_units': 256}), (<class 'lasagne.layers.dense.DenseLayer'>, {'num_units': 7, 'nonlinearity': <function softmax at 0x1073529b0>})],\n",
       "     loss=None, max_epochs=60, more_params={},\n",
       "     objective=<function regularization_objective at 0x1126d2050>,\n",
       "     objective_lambda2=0.0025,\n",
       "     objective_loss_function=<function categorical_crossentropy at 0x1074af758>,\n",
       "     on_batch_finished=[],\n",
       "     on_epoch_finished=[<nolearn.lasagne.handlers.PrintLog instance at 0x108faecf8>],\n",
       "     on_training_finished=[],\n",
       "     on_training_started=[<nolearn.lasagne.handlers.PrintLayerInfo instance at 0x112d46d40>],\n",
       "     regression=False,\n",
       "     train_split=<nolearn.lasagne.base.TrainSplit object at 0x1362aacd0>,\n",
       "     update=<function adam at 0x1074b7b18>, update_learning_rate=0.0001,\n",
       "     use_label_encoder=False, verbose=3,\n",
       "     y_tensor_type=TensorType(int32, vector))"
      ]
     },
     "execution_count": 114,
     "metadata": {},
     "output_type": "execute_result"
    }
   ],
   "source": [
    "net1.fit(X, y)"
   ]
  },
  {
   "cell_type": "code",
   "execution_count": 108,
   "metadata": {
    "collapsed": false
   },
   "outputs": [],
   "source": [
    "net1.save_params_to ('NN_model_with_preprocess')"
   ]
  },
  {
   "cell_type": "code",
   "execution_count": 109,
   "metadata": {
    "collapsed": true
   },
   "outputs": [],
   "source": [
    "def classify_pub_test(classifier):\n",
    "    '''\n",
    "    test = scipy.io.loadmat('public_test_images.mat')\n",
    "    print test\n",
    "    print test[\"public_test_images\"].shape\n",
    "    (x, y, n_images) = test[\"public_test_images\"].shape\n",
    "    test_img = np.reshape(np.swapaxes(test[\"public_test_images\"], 0, 2), (n_images, 1, x, y))\n",
    "    \n",
    "    test_img = np.array(test_img).astype(np.float32)\n",
    "    test_img -= test_img.mean()\n",
    "    test_img /= test_img.std()\n",
    "    '''\n",
    "    test = scipy.io.loadmat('public_test_filtered_no_normalization.mat')\n",
    "    print test\n",
    "    print test[\"public_test_images\"].shape\n",
    "    (n_images, dim) = test[\"public_test_images\"].shape\n",
    "    test_img = np.reshape(test['public_test_images'], (n_images, 1, dim, 1))\n",
    "    test_img = np.array(test_img).astype(np.float32)\n",
    "    test_img -= test_img.mean()\n",
    "    test_img /= test_img.std()\n",
    "    \n",
    "    return classifier.predict(test_img)+1\n"
   ]
  },
  {
   "cell_type": "code",
   "execution_count": 110,
   "metadata": {
    "collapsed": false
   },
   "outputs": [
    {
     "name": "stdout",
     "output_type": "stream",
     "text": [
      "{'__version__': '1.0', 'public_test_images': array([[-0.55031161, -1.03410965, -0.7182287 , ..., -0.01361113,\n",
      "        -0.69148694, -1.1980009 ],\n",
      "       [-0.7826917 , -0.86714455, -0.92208457, ..., -0.05714381,\n",
      "        -0.23795344, -0.61877658],\n",
      "       [-1.07663285, -1.0978014 , -0.85202789, ..., -0.06973948,\n",
      "        -0.52907627, -0.57921581],\n",
      "       ..., \n",
      "       [ 0.40158163, -0.02533596, -0.75259446, ...,  0.71825602,\n",
      "        -0.44343612, -1.19710743],\n",
      "       [ 0.22634008, -0.06262402, -0.58117261, ...,  1.03498517,\n",
      "        -0.50436636, -1.11643053],\n",
      "       [-0.97771398, -0.34806069, -0.86353322, ...,  0.18689145,\n",
      "         0.03648192, -0.18021028]]), '__header__': 'MATLAB 5.0 MAT-file, Platform: GLNXA64, Created on: Wed Dec  9 06:40:49 2015', '__globals__': []}\n",
      "(418, 2560)\n",
      "[7, 7, 6, 7, 7, 7, 7, 7, 7, 7, 7, 7, 7, 7, 7, 7, 4, 7, 7, 4, 7, 4, 7, 4, 7, 7, 4, 7, 4, 7, 4, 4, 4, 2, 7, 7, 2, 1, 1, 2, 2, 2, 2, 2, 7, 1, 2, 1, 7, 4, 7, 6, 6, 7, 4, 7, 7, 1, 7, 2, 7, 3, 6, 2, 4, 6, 6, 7, 6, 6, 6, 7, 6, 7, 7, 4, 7, 6, 7, 1, 5, 7, 4, 4, 2, 7, 4, 2, 2, 5, 7, 4, 4, 4, 5, 7, 5, 5, 5, 6, 6, 6, 1, 7, 3, 3, 6, 5, 6, 6, 6, 1, 2, 4, 7, 1, 6, 3, 1, 2, 4, 7, 5, 6, 3, 1, 3, 4, 5, 6, 2, 1, 1, 4, 7, 6, 5, 2, 2, 4, 7, 5, 6, 3, 1, 2, 4, 7, 5, 6, 3, 2, 2, 4, 5, 6, 5, 5, 4, 7, 5, 3, 3, 1, 1, 4, 7, 5, 6, 3, 1, 2, 4, 7, 1, 6, 3, 1, 2, 4, 7, 3, 6, 6, 5, 2, 4, 7, 6, 1, 2, 4, 7, 7, 3, 1, 2, 4, 7, 5, 6, 3, 2, 2, 4, 7, 5, 6, 3, 2, 2, 4, 7, 5, 6, 4, 4, 5, 3, 3, 1, 4, 7, 5, 6, 7, 7, 5, 5, 3, 5, 1, 4, 5, 7, 2, 7, 1, 4, 5, 3, 2, 5, 1, 4, 5, 3, 2, 7, 7, 1, 2, 1, 1, 6, 7, 7, 7, 7, 7, 7, 7, 5, 4, 2, 1, 7, 1, 3, 3, 3, 3, 6, 3, 3, 4, 4, 3, 4, 4, 4, 4, 4, 4, 4, 4, 3, 7, 7, 7, 7, 7, 5, 7, 5, 5, 1, 5, 5, 5, 6, 6, 3, 6, 1, 1, 1, 1, 1, 1, 1, 2, 1, 7, 1, 7, 7, 7, 7, 7, 7, 7, 7, 7, 4, 7, 7, 2, 5, 2, 2, 2, 2, 1, 2, 1, 2, 2, 7, 3, 3, 6, 3, 6, 3, 7, 3, 4, 4, 4, 4, 4, 3, 4, 3, 4, 4, 4, 4, 4, 4, 4, 7, 7, 7, 7, 7, 7, 7, 7, 7, 7, 7, 7, 5, 5, 5, 5, 5, 5, 4, 2, 7, 6, 3, 6, 3, 3, 7, 1, 2, 3, 4, 7, 6, 7, 5, 4, 7, 7, 5, 6, 4, 2, 3, 7, 7, 3, 3, 4, 4, 3, 7, 7, 3, 2, 7, 3]\n"
     ]
    }
   ],
   "source": [
    "classify_result = classify_pub_test(net1)\n",
    "cls_res_list = list(classify_result)\n",
    "print cls_res_list\n",
    "with open('submit_cnn_first_try.csv', 'w') as f:\n",
    "    f.write('Id,Prediction\\n')\n",
    "    index = 1\n",
    "    for pred in cls_res_list:\n",
    "        f.write('%d,%d\\n'%(index, pred))\n",
    "        index += 1\n",
    "    while index<=1253:\n",
    "        f.write('%d,0\\n'%(index))\n",
    "        index+=1"
   ]
  },
  {
   "cell_type": "code",
   "execution_count": 91,
   "metadata": {
    "collapsed": false
   },
   "outputs": [
    {
     "ename": "ValueError",
     "evalue": "Wrong number of dimensions, image data should have 2, instead got 0",
     "output_type": "error",
     "traceback": [
      "\u001b[0;31m---------------------------------------------------------------------------\u001b[0m",
      "\u001b[0;31mValueError\u001b[0m                                Traceback (most recent call last)",
      "\u001b[0;32m<ipython-input-91-7fcde827796b>\u001b[0m in \u001b[0;36m<module>\u001b[0;34m()\u001b[0m\n\u001b[1;32m      4\u001b[0m \u001b[0;32mfrom\u001b[0m \u001b[0mnolearn\u001b[0m\u001b[0;34m.\u001b[0m\u001b[0mlasagne\u001b[0m\u001b[0;34m.\u001b[0m\u001b[0mvisualize\u001b[0m \u001b[0;32mimport\u001b[0m \u001b[0mplot_occlusion\u001b[0m\u001b[0;34m\u001b[0m\u001b[0m\n\u001b[1;32m      5\u001b[0m \u001b[0mplot_loss\u001b[0m\u001b[0;34m(\u001b[0m\u001b[0mnet1\u001b[0m\u001b[0;34m)\u001b[0m\u001b[0;34m\u001b[0m\u001b[0m\n\u001b[0;32m----> 6\u001b[0;31m \u001b[0mplot_conv_activity\u001b[0m\u001b[0;34m(\u001b[0m\u001b[0mnet1\u001b[0m\u001b[0;34m.\u001b[0m\u001b[0mlayers_\u001b[0m\u001b[0;34m[\u001b[0m\u001b[0;36m1\u001b[0m\u001b[0;34m]\u001b[0m\u001b[0;34m,\u001b[0m \u001b[0mX\u001b[0m\u001b[0;34m[\u001b[0m\u001b[0;36m0\u001b[0m\u001b[0;34m:\u001b[0m\u001b[0;36m1\u001b[0m\u001b[0;34m]\u001b[0m\u001b[0;34m)\u001b[0m\u001b[0;34m\u001b[0m\u001b[0m\n\u001b[0m",
      "\u001b[0;32m/Users/zexuanwang/anaconda/lib/python2.7/site-packages/nolearn/lasagne/visualize.pyc\u001b[0m in \u001b[0;36mplot_conv_activity\u001b[0;34m(layer, x, figsize)\u001b[0m\n\u001b[1;32m     93\u001b[0m         \u001b[0;32mif\u001b[0m \u001b[0mndim\u001b[0m \u001b[0;34m!=\u001b[0m \u001b[0;36m2\u001b[0m\u001b[0;34m:\u001b[0m\u001b[0;34m\u001b[0m\u001b[0m\n\u001b[1;32m     94\u001b[0m             raise ValueError(\"Wrong number of dimensions, image data should \"\n\u001b[0;32m---> 95\u001b[0;31m                              \"have 2, instead got {}\".format(ndim))\n\u001b[0m\u001b[1;32m     96\u001b[0m         axes[r + 1, c].imshow(-activity[0][i], cmap='gray',\n\u001b[1;32m     97\u001b[0m                               interpolation='nearest')\n",
      "\u001b[0;31mValueError\u001b[0m: Wrong number of dimensions, image data should have 2, instead got 0"
     ]
    },
    {
     "data": {
      "image/png": "[encoded data removed]",
      "text/plain": [
       "<matplotlib.figure.Figure at 0x1361e0bd0>"
      ]
     },
     "metadata": {},
     "output_type": "display_data"
    },
    {
     "data": {
      "image/png": "[encoded data removed]",
      "text/plain": [
       "<matplotlib.figure.Figure at 0x136292610>"
      ]
     },
     "metadata": {},
     "output_type": "display_data"
    }
   ],
   "source": [
    "from nolearn.lasagne.visualize import plot_loss\n",
    "from nolearn.lasagne.visualize import plot_conv_weights\n",
    "from nolearn.lasagne.visualize import plot_conv_activity\n",
    "from nolearn.lasagne.visualize import plot_occlusion\n",
    "plot_loss(net1)\n",
    "plot_conv_activity(net1.layers_[1], X[0:1])"
   ]
  },
  {
   "cell_type": "code",
   "execution_count": null,
   "metadata": {
    "collapsed": true
   },
   "outputs": [],
   "source": []
  },
  {
   "cell_type": "code",
   "execution_count": null,
   "metadata": {
    "collapsed": true
   },
   "outputs": [],
   "source": []
  },
  {
   "cell_type": "code",
   "execution_count": null,
   "metadata": {
    "collapsed": true
   },
   "outputs": [],
   "source": []
  },
  {
   "cell_type": "code",
   "execution_count": null,
   "metadata": {
    "collapsed": true
   },
   "outputs": [],
   "source": []
  }
 ],
 "metadata": {
  "kernelspec": {
   "display_name": "Python 2",
   "language": "python",
   "name": "python2"
  },
  "language_info": {
   "codemirror_mode": {
    "name": "ipython",
    "version": 2
   },
   "file_extension": ".py",
   "mimetype": "text/x-python",
   "name": "python",
   "nbconvert_exporter": "python",
   "pygments_lexer": "ipython2",
   "version": "2.7.10"
  }
 },
 "nbformat": 4,
 "nbformat_minor": 0
}
