{
 "cells": [
  {
   "cell_type": "code",
   "execution_count": 221,
   "metadata": {
    "collapsed": false
   },
   "outputs": [
    {
     "name": "stdout",
     "output_type": "stream",
     "text": [
      "Populating the interactive namespace from numpy and matplotlib\n"
     ]
    }
   ],
   "source": [
    "import os\n",
    "import matplotlib.pyplot as plt\n",
    "%pylab inline\n",
    "import numpy as np\n",
    "from lasagne.layers import DenseLayer\n",
    "from lasagne.layers import InputLayer\n",
    "from lasagne.layers import DropoutLayer\n",
    "from lasagne.layers import Conv2DLayer\n",
    "from lasagne.layers import MaxPool2DLayer\n",
    "from lasagne.nonlinearities import softmax\n",
    "from lasagne.updates import adam\n",
    "from lasagne.layers import get_all_params\n",
    "from nolearn.lasagne import NeuralNet\n",
    "from nolearn.lasagne import TrainSplit\n",
    "from nolearn.lasagne import objective"
   ]
  },
  {
   "cell_type": "code",
   "execution_count": 244,
   "metadata": {
    "collapsed": false
   },
   "outputs": [
    {
     "name": "stdout",
     "output_type": "stream",
     "text": [
      "Shape of tr_images is:  (2925, 2560)\n"
     ]
    },
    {
     "data": {
      "image/png": "[encoded data removed]",
      "text/plain": [
       "<matplotlib.figure.Figure at 0x130b6f310>"
      ]
     },
     "metadata": {},
     "output_type": "display_data"
    }
   ],
   "source": [
    "import scipy.io\n",
    "\n",
    "train = scipy.io.loadmat('filtered_testimg.mat')\n",
    "train_original = scipy.io.loadmat('labeled_images.mat')\n",
    "\n",
    "print \"Shape of tr_images is: \", train[\"tr_images\"].shape\n",
    "# (x, y, n_images) = train[\"tr_images\"].shape\n",
    "(n_images, dim) = train[\"tr_images\"].shape\n",
    "y = train_original[\"tr_labels\"].ravel()-1\n",
    "\n",
    "# train_img = np.reshape(np.swapaxes(train[\"tr_images\"], 0, 2), (n_images, x * y))\n",
    "X = np.reshape(train['tr_images'], (n_images, 1, dim, 1))\n",
    "y = np.array(y).astype(np.int32)\n",
    "X = np.array(X).astype(np.float32)\n",
    "# Normalization\n",
    "#X -= X.mean()\n",
    "#X /= X.std()\n",
    "\n",
    "plt.imshow(np.swapaxes((np.swapaxes(train_original[\"tr_images\"], 0, 2)), 1,2)[0], cmap=pylab.gray())\n",
    "plt.show()"
   ]
  },
  {
   "cell_type": "code",
   "execution_count": 277,
   "metadata": {
    "collapsed": true
   },
   "outputs": [],
   "source": [
    "layers0 = [\n",
    "    # layer dealing with the input data\n",
    "    (InputLayer, {'shape': (None, X.shape[1], X.shape[2], X.shape[3])}),\n",
    "\n",
    "    # first stage of our convolutional layers\n",
    "    (Conv2DLayer, {'num_filters': 96, 'filter_size': 5}),\n",
    "    (Conv2DLayer, {'num_filters': 96, 'filter_size': 3}),\n",
    "    (Conv2DLayer, {'num_filters': 96, 'filter_size': 3}),\n",
    "    (Conv2DLayer, {'num_filters': 96, 'filter_size': 3}),\n",
    "    (Conv2DLayer, {'num_filters': 96, 'filter_size': 3}),\n",
    "    (MaxPool2DLayer, {'pool_size': 2}),\n",
    "\n",
    "    # second stage of our convolutional layers\n",
    "    (Conv2DLayer, {'num_filters': 128, 'filter_size': 3}),\n",
    "    (Conv2DLayer, {'num_filters': 128, 'filter_size': 3}),\n",
    "    (Conv2DLayer, {'num_filters': 128, 'filter_size': 3}),\n",
    "    (MaxPool2DLayer, {'pool_size': 2}),\n",
    "\n",
    "    # two dense layers with dropout\n",
    "    (DenseLayer, {'num_units': 64}),\n",
    "    (DropoutLayer, {}),\n",
    "    (DenseLayer, {'num_units': 64}),\n",
    "\n",
    "    # the output layer\n",
    "    (DenseLayer, {'num_units': 7, 'nonlinearity': softmax}),\n",
    "]\n",
    "\n",
    "layers1 = [\n",
    "    # layer dealing with the input data\n",
    "    (InputLayer, {'shape': (None, X.shape[1], X.shape[2], X.shape[3])}),\n",
    "\n",
    "    # first stage of our convolutional layers\n",
    "    (Conv2DLayer, {'num_filters': 48, 'filter_size': 5}),\n",
    "    (Conv2DLayer, {'num_filters': 48, 'filter_size': 3}),\n",
    "    (Conv2DLayer, {'num_filters': 48, 'filter_size': 3}),\n",
    "    (MaxPool2DLayer, {'pool_size': 2}),\n",
    "\n",
    "    # second stage of our convolutional layers\n",
    "    (Conv2DLayer, {'num_filters': 64, 'filter_size': 5}),\n",
    "    (Conv2DLayer, {'num_filters': 64, 'filter_size': 3}),\n",
    "    (MaxPool2DLayer, {'pool_size': 2}),\n",
    "\n",
    "    # two dense layers with dropout\n",
    "    (DenseLayer, {'num_units': 32}),\n",
    "    (DropoutLayer, {}),\n",
    "    (DenseLayer, {'num_units': 32}),\n",
    "\n",
    "    # the output layer\n",
    "    (DenseLayer, {'num_units': 7, 'nonlinearity': softmax}),\n",
    "]\n",
    "\n",
    "layers2 = [\n",
    "    (InputLayer, {'shape': (None, X.shape[1], X.shape[2], X.shape[3])}),\n",
    "\n",
    "    (Conv2DLayer, {'num_filters': 32, 'filter_size': (3, 3)}),\n",
    "    (MaxPool2DLayer, {'pool_size': (2, 2)}),\n",
    "\n",
    "    (Conv2DLayer, {'num_filters': 64, 'filter_size': (3, 3)}),\n",
    "    (Conv2DLayer, {'num_filters': 64, 'filter_size': (3, 3)}),\n",
    "    (MaxPool2DLayer, {'pool_size': (2, 2)}),\n",
    "\n",
    "    (Conv2DLayer, {'num_filters': 96, 'filter_size': (3, 3)}),\n",
    "    (MaxPool2DLayer, {'pool_size': (2, 2)}),\n",
    "\n",
    "    (DenseLayer, {'num_units': 64}),\n",
    "    (DropoutLayer, {}),\n",
    "    (DenseLayer, {'num_units': 64}),\n",
    "\n",
    "    (DenseLayer, {'num_units': 7, 'nonlinearity': softmax}),\n",
    "]\n",
    "\n",
    "layers3 = [\n",
    "    (InputLayer, {'shape': (None, X.shape[1], X.shape[2], X.shape[3])}),\n",
    "    (Conv2DLayer, {'num_filters': 96, 'filter_size': (5, 5)}),\n",
    "    (MaxPool2DLayer, {'pool_size': (2, 2)}),\n",
    "    (Conv2DLayer, {'num_filters': 64, 'filter_size': (5, 5)}),\n",
    "    (MaxPool2DLayer, {'pool_size': (2, 2)}),\n",
    "    (DenseLayer, {'num_units': 64}),\n",
    "    (DenseLayer, {'num_units': 7, 'nonlinearity': softmax}),\n",
    "]\n",
    "\n",
    "layers4 = [\n",
    "    (InputLayer, {'shape': (None, X.shape[1], X.shape[2], X.shape[3])}),\n",
    "    #(Conv2DLayer, {'num_filters': 96, 'filter_size': (5, 5)}),\n",
    "    #(MaxPool2DLayer, {'pool_size': (2, 2)}),\n",
    "    (DenseLayer, {'num_units': 42}),\n",
    "    (DenseLayer, {'num_units': 42}),\n",
    "    (DenseLayer, {'num_units': 7, 'nonlinearity': softmax}),\n",
    "]"
   ]
  },
  {
   "cell_type": "code",
   "execution_count": 278,
   "metadata": {
    "collapsed": true
   },
   "outputs": [],
   "source": [
    "def regularization_objective(layers, lambda1=0., lambda2=0., *args, **kwargs):\n",
    "    # default loss\n",
    "    losses = objective(layers, *args, **kwargs)\n",
    "    # get the layers' weights, but only those that should be regularized\n",
    "    # (i.e. not the biases)\n",
    "    weights = get_all_params(layers[-1], regularizable=True)\n",
    "    # sum of absolute weights for L1\n",
    "    sum_abs_weights = sum([abs(w).sum() for w in weights])\n",
    "    # sum of squared weights for L2\n",
    "    sum_squared_weights = sum([(w ** 2).sum() for w in weights])\n",
    "    # add weights to regular loss\n",
    "    losses += lambda1 * sum_abs_weights + lambda2 * sum_squared_weights\n",
    "    return losses"
   ]
  },
  {
   "cell_type": "code",
   "execution_count": 279,
   "metadata": {
    "collapsed": true
   },
   "outputs": [],
   "source": [
    "net0 = NeuralNet(\n",
    "    layers=layers0,\n",
    "    max_epochs=20,\n",
    "\n",
    "    update=adam,\n",
    "    update_learning_rate=0.0002,\n",
    "\n",
    "    objective=regularization_objective,\n",
    "    objective_lambda2=0.0025,\n",
    "\n",
    "    train_split=TrainSplit(eval_size=0.25),\n",
    "    verbose=4,\n",
    ")\n",
    "net1 = NeuralNet(\n",
    "    layers=layers4,\n",
    "    max_epochs=200,\n",
    "    update=adam,\n",
    "    update_learning_rate=0.0001,\n",
    "    objective=regularization_objective,\n",
    "    objective_lambda2=0.009,\n",
    "    train_split=TrainSplit(eval_size=0.25),\n",
    "    verbose=3,\n",
    ")"
   ]
  },
  {
   "cell_type": "code",
   "execution_count": 280,
   "metadata": {
    "collapsed": false
   },
   "outputs": [
    {
     "name": "stdout",
     "output_type": "stream",
     "text": [
      "# Neural Network with 109669 learnable parameters\n",
      "\n",
      "## Layer information\n",
      "\n",
      "  #  name    size\n",
      "---  ------  --------\n",
      "  0  input0  1x2560x1\n",
      "  1  dense1  42\n",
      "  2  dense2  42\n",
      "  3  dense3  7\n",
      "\n",
      "  epoch    train loss    valid loss    train/val    valid acc  dur\n",
      "-------  ------------  ------------  -----------  -----------  -----\n",
      "      1       \u001b[36m3.42169\u001b[0m       \u001b[32m3.14458\u001b[0m      1.08812      0.24139  0.15s\n",
      "      2       \u001b[36m2.96744\u001b[0m       \u001b[32m2.97270\u001b[0m      0.99823      0.35247  0.13s\n",
      "      3       \u001b[36m2.78424\u001b[0m       \u001b[32m2.81325\u001b[0m      0.98969      0.43274  0.13s\n",
      "      4       \u001b[36m2.60242\u001b[0m       \u001b[32m2.69959\u001b[0m      0.96401      0.46620  0.15s\n",
      "      5       \u001b[36m2.47304\u001b[0m       \u001b[32m2.61736\u001b[0m      0.94486      0.49230  0.13s\n",
      "      6       \u001b[36m2.36450\u001b[0m       \u001b[32m2.56331\u001b[0m      0.92244      0.49971  0.13s\n",
      "      7       \u001b[36m2.27019\u001b[0m       \u001b[32m2.50831\u001b[0m      0.90507      0.52105  0.14s\n",
      "      8       \u001b[36m2.19707\u001b[0m       \u001b[32m2.46444\u001b[0m      0.89151      0.53628  0.14s\n",
      "      9       \u001b[36m2.13226\u001b[0m       \u001b[32m2.42398\u001b[0m      0.87965      0.55326  0.13s\n",
      "     10       \u001b[36m2.07865\u001b[0m       \u001b[32m2.38982\u001b[0m      0.86980      0.56589  0.13s\n",
      "     11       \u001b[36m2.02826\u001b[0m       \u001b[32m2.35941\u001b[0m      0.85965      0.56328  0.13s\n",
      "     12       \u001b[36m1.98725\u001b[0m       \u001b[32m2.32803\u001b[0m      0.85362      0.57891  0.14s\n",
      "     13       \u001b[36m1.94474\u001b[0m       \u001b[32m2.30475\u001b[0m      0.84379      0.58021  0.13s\n",
      "     14       \u001b[36m1.90946\u001b[0m       \u001b[32m2.28218\u001b[0m      0.83668      0.58978  0.13s\n",
      "     15       \u001b[36m1.87283\u001b[0m       \u001b[32m2.26045\u001b[0m      0.82852      0.58672  0.13s\n",
      "     16       \u001b[36m1.84200\u001b[0m       \u001b[32m2.24177\u001b[0m      0.82167      0.59583  0.14s\n",
      "     17       \u001b[36m1.81125\u001b[0m       \u001b[32m2.22782\u001b[0m      0.81302      0.59759  0.13s\n",
      "     18       \u001b[36m1.78238\u001b[0m       \u001b[32m2.21313\u001b[0m      0.80537      0.60149  0.13s\n",
      "     19       \u001b[36m1.75659\u001b[0m       \u001b[32m2.19826\u001b[0m      0.79908      0.61021  0.13s\n",
      "     20       \u001b[36m1.73247\u001b[0m       \u001b[32m2.18264\u001b[0m      0.79375      0.61587  0.13s\n",
      "     21       \u001b[36m1.70990\u001b[0m       \u001b[32m2.16978\u001b[0m      0.78805      0.61587  0.13s\n",
      "     22       \u001b[36m1.68771\u001b[0m       \u001b[32m2.15738\u001b[0m      0.78229      0.62108  0.13s\n",
      "     23       \u001b[36m1.66725\u001b[0m       \u001b[32m2.14488\u001b[0m      0.77731      0.62459  0.14s\n",
      "     24       \u001b[36m1.64717\u001b[0m       \u001b[32m2.13400\u001b[0m      0.77187      0.62589  0.16s\n",
      "     25       \u001b[36m1.62795\u001b[0m       \u001b[32m2.12042\u001b[0m      0.76775      0.63501  0.13s\n",
      "     26       \u001b[36m1.61031\u001b[0m       \u001b[32m2.11107\u001b[0m      0.76279      0.63891  0.13s\n",
      "     27       \u001b[36m1.59192\u001b[0m       \u001b[32m2.09984\u001b[0m      0.75811      0.64152  0.16s\n",
      "     28       \u001b[36m1.57468\u001b[0m       \u001b[32m2.09143\u001b[0m      0.75292      0.64152  0.13s\n",
      "     29       \u001b[36m1.55713\u001b[0m       \u001b[32m2.08027\u001b[0m      0.74852      0.64197  0.14s\n",
      "     30       \u001b[36m1.54191\u001b[0m       \u001b[32m2.06995\u001b[0m      0.74490      0.64372  0.15s\n",
      "     31       \u001b[36m1.52614\u001b[0m       \u001b[32m2.06201\u001b[0m      0.74012      0.64893  0.14s\n",
      "     32       \u001b[36m1.51061\u001b[0m       \u001b[32m2.05298\u001b[0m      0.73581      0.64938  0.13s\n",
      "     33       \u001b[36m1.49568\u001b[0m       \u001b[32m2.04393\u001b[0m      0.73176      0.65029  0.14s\n",
      "     34       \u001b[36m1.48122\u001b[0m       \u001b[32m2.03574\u001b[0m      0.72761      0.64984  0.14s\n",
      "     35       \u001b[36m1.46751\u001b[0m       \u001b[32m2.02721\u001b[0m      0.72390      0.65114  0.13s\n",
      "     36       \u001b[36m1.45344\u001b[0m       \u001b[32m2.01991\u001b[0m      0.71956      0.64723  0.13s\n",
      "     37       \u001b[36m1.44044\u001b[0m       \u001b[32m2.01177\u001b[0m      0.71601      0.65244  0.12s\n",
      "     38       \u001b[36m1.42675\u001b[0m       \u001b[32m2.00386\u001b[0m      0.71200      0.65244  0.13s\n",
      "     39       \u001b[36m1.41469\u001b[0m       \u001b[32m1.99815\u001b[0m      0.70800      0.65289  0.13s\n",
      "     40       \u001b[36m1.40172\u001b[0m       \u001b[32m1.99246\u001b[0m      0.70351      0.65419  0.13s\n",
      "     41       \u001b[36m1.38900\u001b[0m       \u001b[32m1.98496\u001b[0m      0.69976      0.65595  0.14s\n",
      "     42       \u001b[36m1.37746\u001b[0m       \u001b[32m1.97595\u001b[0m      0.69712      0.65465  0.14s\n",
      "     43       \u001b[36m1.36581\u001b[0m       \u001b[32m1.97017\u001b[0m      0.69324      0.66161  0.15s\n",
      "     44       \u001b[36m1.35428\u001b[0m       \u001b[32m1.96429\u001b[0m      0.68945      0.66076  0.13s\n",
      "     45       \u001b[36m1.34297\u001b[0m       \u001b[32m1.95974\u001b[0m      0.68528      0.66076  0.13s\n",
      "     46       \u001b[36m1.33184\u001b[0m       \u001b[32m1.95085\u001b[0m      0.68270      0.66076  0.13s\n",
      "     47       \u001b[36m1.32124\u001b[0m       \u001b[32m1.94149\u001b[0m      0.68053      0.66382  0.13s\n",
      "     48       \u001b[36m1.31129\u001b[0m       \u001b[32m1.93996\u001b[0m      0.67594      0.66382  0.15s\n",
      "     49       \u001b[36m1.30044\u001b[0m       \u001b[32m1.93505\u001b[0m      0.67204      0.66336  0.13s\n",
      "     50       \u001b[36m1.28986\u001b[0m       \u001b[32m1.92823\u001b[0m      0.66893      0.66817  0.13s\n",
      "     51       \u001b[36m1.27970\u001b[0m       \u001b[32m1.91809\u001b[0m      0.66717      0.66993  0.13s\n",
      "     52       \u001b[36m1.27091\u001b[0m       \u001b[32m1.91690\u001b[0m      0.66300      0.66687  0.13s\n",
      "     53       \u001b[36m1.26097\u001b[0m       \u001b[32m1.91414\u001b[0m      0.65877      0.66687  0.13s\n",
      "     54       \u001b[36m1.25040\u001b[0m       \u001b[32m1.90858\u001b[0m      0.65515      0.66863  0.13s\n",
      "     55       \u001b[36m1.24103\u001b[0m       \u001b[32m1.89718\u001b[0m      0.65415      0.67299  0.13s\n",
      "     56       \u001b[36m1.23320\u001b[0m       \u001b[32m1.89430\u001b[0m      0.65101      0.67168  0.14s\n",
      "     57       \u001b[36m1.22399\u001b[0m       \u001b[32m1.89182\u001b[0m      0.64699      0.67344  0.13s\n",
      "     58       \u001b[36m1.21440\u001b[0m       \u001b[32m1.88829\u001b[0m      0.64312      0.67214  0.12s\n",
      "     59       \u001b[36m1.20456\u001b[0m       \u001b[32m1.87821\u001b[0m      0.64133      0.67344  0.12s\n",
      "     60       \u001b[36m1.19729\u001b[0m       \u001b[32m1.87347\u001b[0m      0.63907      0.67955  0.12s\n",
      "     61       \u001b[36m1.18868\u001b[0m       \u001b[32m1.86941\u001b[0m      0.63586      0.67649  0.12s\n",
      "     62       \u001b[36m1.17984\u001b[0m       \u001b[32m1.86521\u001b[0m      0.63255      0.67825  0.12s\n",
      "     63       \u001b[36m1.17144\u001b[0m       \u001b[32m1.85856\u001b[0m      0.63029      0.67955  0.13s\n",
      "     64       \u001b[36m1.16350\u001b[0m       \u001b[32m1.85488\u001b[0m      0.62726      0.67955  0.13s\n",
      "     65       \u001b[36m1.15536\u001b[0m       \u001b[32m1.85102\u001b[0m      0.62417      0.68130  0.12s\n",
      "     66       \u001b[36m1.14741\u001b[0m       \u001b[32m1.84404\u001b[0m      0.62223      0.68261  0.12s\n",
      "     67       \u001b[36m1.13974\u001b[0m       \u001b[32m1.83919\u001b[0m      0.61970      0.68261  0.13s\n",
      "     68       \u001b[36m1.13207\u001b[0m       \u001b[32m1.83451\u001b[0m      0.61710      0.68742  0.12s\n",
      "     69       \u001b[36m1.12463\u001b[0m       \u001b[32m1.83196\u001b[0m      0.61390      0.68566  0.12s\n",
      "     70       \u001b[36m1.11678\u001b[0m       \u001b[32m1.82732\u001b[0m      0.61116      0.69178  0.12s\n",
      "     71       \u001b[36m1.10946\u001b[0m       \u001b[32m1.82147\u001b[0m      0.60910      0.69308  0.13s\n",
      "     72       \u001b[36m1.10212\u001b[0m       \u001b[32m1.81624\u001b[0m      0.60682      0.69353  0.13s\n",
      "     73       \u001b[36m1.09530\u001b[0m       \u001b[32m1.81262\u001b[0m      0.60426      0.69223  0.12s\n",
      "     74       \u001b[36m1.08801\u001b[0m       \u001b[32m1.81009\u001b[0m      0.60108      0.69483  0.13s\n",
      "     75       \u001b[36m1.08100\u001b[0m       \u001b[32m1.80635\u001b[0m      0.59845      0.69308  0.12s\n",
      "     76       \u001b[36m1.07349\u001b[0m       \u001b[32m1.79923\u001b[0m      0.59664      0.69483  0.12s\n",
      "     77       \u001b[36m1.06727\u001b[0m       \u001b[32m1.79428\u001b[0m      0.59482      0.69353  0.12s\n",
      "     78       \u001b[36m1.06079\u001b[0m       \u001b[32m1.79268\u001b[0m      0.59173      0.69353  0.13s\n",
      "     79       \u001b[36m1.05418\u001b[0m       1.79301      0.58794      0.69744  0.14s\n",
      "     80       \u001b[36m1.04638\u001b[0m       \u001b[32m1.78696\u001b[0m      0.58556      0.69744  0.13s\n",
      "     81       \u001b[36m1.04039\u001b[0m       \u001b[32m1.78033\u001b[0m      0.58438      0.69483  0.15s\n",
      "     82       \u001b[36m1.03444\u001b[0m       \u001b[32m1.77819\u001b[0m      0.58174      0.69613  0.14s\n",
      "     83       \u001b[36m1.02840\u001b[0m       \u001b[32m1.77789\u001b[0m      0.57844      0.69698  0.13s\n",
      "     84       \u001b[36m1.02150\u001b[0m       \u001b[32m1.77259\u001b[0m      0.57628      0.69959  0.14s\n",
      "     85       \u001b[36m1.01487\u001b[0m       \u001b[32m1.76927\u001b[0m      0.57361      0.69744  0.13s\n",
      "     86       \u001b[36m1.00936\u001b[0m       \u001b[32m1.76468\u001b[0m      0.57198      0.69744  0.13s\n",
      "     87       \u001b[36m1.00330\u001b[0m       \u001b[32m1.76426\u001b[0m      0.56868      0.69829  0.13s\n",
      "     88       \u001b[36m0.99754\u001b[0m       \u001b[32m1.76248\u001b[0m      0.56598      0.70219  0.13s\n",
      "     89       \u001b[36m0.99110\u001b[0m       \u001b[32m1.75942\u001b[0m      0.56331      0.69568  0.14s\n",
      "     90       \u001b[36m0.98507\u001b[0m       \u001b[32m1.75223\u001b[0m      0.56218      0.69919  0.15s\n",
      "     91       \u001b[36m0.97962\u001b[0m       \u001b[32m1.75014\u001b[0m      0.55974      0.70310  0.13s\n",
      "     92       \u001b[36m0.97480\u001b[0m       \u001b[32m1.74729\u001b[0m      0.55789      0.70570  0.13s\n",
      "     93       \u001b[36m0.96903\u001b[0m       1.75050      0.55358      0.69829  0.13s\n",
      "     94       \u001b[36m0.96223\u001b[0m       \u001b[32m1.74110\u001b[0m      0.55266      0.70265  0.13s\n",
      "     95       \u001b[36m0.95707\u001b[0m       \u001b[32m1.73531\u001b[0m      0.55153      0.70615  0.13s\n",
      "     96       \u001b[36m0.95250\u001b[0m       \u001b[32m1.72979\u001b[0m      0.55064      0.70876  0.13s\n",
      "     97       \u001b[36m0.94840\u001b[0m       1.73445      0.54680      0.70310  0.13s\n",
      "     98       \u001b[36m0.94165\u001b[0m       1.73656      0.54225      0.69783  0.13s\n",
      "     99       \u001b[36m0.93561\u001b[0m       1.73063      0.54062      0.69874  0.13s\n",
      "    100       \u001b[36m0.93013\u001b[0m       \u001b[32m1.72088\u001b[0m      0.54050      0.70440  0.12s\n",
      "    101       \u001b[36m0.92676\u001b[0m       \u001b[32m1.71679\u001b[0m      0.53982      0.70440  0.13s\n",
      "    102       \u001b[36m0.92267\u001b[0m       1.71825      0.53699      0.70265  0.14s\n",
      "    103       \u001b[36m0.91634\u001b[0m       1.72242      0.53201      0.69868  0.13s\n",
      "    104       \u001b[36m0.91089\u001b[0m       \u001b[32m1.71358\u001b[0m      0.53157      0.70440  0.12s\n",
      "    105       \u001b[36m0.90553\u001b[0m       \u001b[32m1.70962\u001b[0m      0.52966      0.70310  0.13s\n",
      "    106       \u001b[36m0.90329\u001b[0m       \u001b[32m1.70187\u001b[0m      0.53076      0.70791  0.13s\n",
      "    107       \u001b[36m0.89761\u001b[0m       1.70867      0.52533      0.69914  0.13s\n",
      "    108       \u001b[36m0.89272\u001b[0m       1.70345      0.52407      0.70615  0.13s\n",
      "    109       \u001b[36m0.88688\u001b[0m       1.70573      0.51994      0.70004  0.13s\n",
      "    110       \u001b[36m0.88324\u001b[0m       \u001b[32m1.69362\u001b[0m      0.52151      0.71051  0.13s\n",
      "    111       \u001b[36m0.88011\u001b[0m       \u001b[32m1.69021\u001b[0m      0.52071      0.70921  0.13s\n",
      "    112       \u001b[36m0.87486\u001b[0m       1.69228      0.51697      0.70089  0.13s\n",
      "    113       \u001b[36m0.87084\u001b[0m       1.69239      0.51456      0.70746  0.13s\n",
      "    114       \u001b[36m0.86414\u001b[0m       1.69270      0.51051      0.70095  0.13s\n",
      "    115       \u001b[36m0.86314\u001b[0m       \u001b[32m1.68248\u001b[0m      0.51302      0.71312  0.13s\n",
      "    116       \u001b[36m0.85670\u001b[0m       \u001b[32m1.68070\u001b[0m      0.50973      0.70570  0.13s\n",
      "    117       \u001b[36m0.85435\u001b[0m       \u001b[32m1.68006\u001b[0m      0.50852      0.71051  0.14s\n",
      "    118       \u001b[36m0.84722\u001b[0m       1.68629      0.50242      0.69659  0.13s\n",
      "    119       \u001b[36m0.84554\u001b[0m       \u001b[32m1.67448\u001b[0m      0.50495      0.70791  0.13s\n",
      "    120       \u001b[36m0.84078\u001b[0m       \u001b[32m1.66775\u001b[0m      0.50414      0.70615  0.14s\n",
      "    121       \u001b[36m0.83735\u001b[0m       1.67347      0.50037      0.70265  0.13s\n",
      "    122       \u001b[36m0.83254\u001b[0m       1.67518      0.49698      0.70485  0.13s\n",
      "    123       \u001b[36m0.82687\u001b[0m       1.66948      0.49528      0.70225  0.13s\n",
      "    124       \u001b[36m0.82650\u001b[0m       \u001b[32m1.65578\u001b[0m      0.49916      0.70921  0.15s\n",
      "    125       \u001b[36m0.82052\u001b[0m       1.66109      0.49397      0.70265  0.14s\n",
      "    126       \u001b[36m0.81906\u001b[0m       1.66400      0.49222      0.70876  0.13s\n",
      "    127       \u001b[36m0.81024\u001b[0m       1.67381      0.48407      0.69529  0.13s\n",
      "    128       \u001b[36m0.81017\u001b[0m       \u001b[32m1.65020\u001b[0m      0.49095      0.70921  0.13s\n",
      "    129       \u001b[36m0.80518\u001b[0m       \u001b[32m1.64658\u001b[0m      0.48900      0.70661  0.12s\n",
      "    130       \u001b[36m0.80390\u001b[0m       1.64996      0.48722      0.70485  0.14s\n",
      "    131       \u001b[36m0.79678\u001b[0m       1.66538      0.47844      0.69529  0.16s\n",
      "    132       \u001b[36m0.79345\u001b[0m       1.64840      0.48135      0.70049  0.13s\n",
      "    133       \u001b[36m0.79114\u001b[0m       \u001b[32m1.63727\u001b[0m      0.48321      0.70791  0.14s\n",
      "    134       \u001b[36m0.78726\u001b[0m       1.64096      0.47975      0.70485  0.14s\n",
      "    135       \u001b[36m0.78371\u001b[0m       1.65013      0.47494      0.70180  0.15s\n",
      "    136       \u001b[36m0.77734\u001b[0m       1.64212      0.47337      0.69919  0.13s\n",
      "    137       0.77804       \u001b[32m1.62347\u001b[0m      0.47925      0.71227  0.13s\n",
      "    138       \u001b[36m0.77198\u001b[0m       1.62946      0.47376      0.70400  0.14s\n",
      "    139       \u001b[36m0.77109\u001b[0m       1.63948      0.47033      0.70570  0.13s\n",
      "    140       \u001b[36m0.76236\u001b[0m       1.64631      0.46307      0.69529  0.13s\n",
      "    141       0.76296       \u001b[32m1.62028\u001b[0m      0.47088      0.70876  0.13s\n",
      "    142       \u001b[36m0.75753\u001b[0m       \u001b[32m1.61314\u001b[0m      0.46960      0.70530  0.14s\n",
      "    143       0.75768       1.61923      0.46793      0.70921  0.13s\n",
      "    144       \u001b[36m0.75037\u001b[0m       1.63161      0.45989      0.70095  0.13s\n",
      "    145       \u001b[36m0.74893\u001b[0m       1.61712      0.46313      0.70791  0.13s\n",
      "    146       \u001b[36m0.74514\u001b[0m       \u001b[32m1.60433\u001b[0m      0.46446      0.70400  0.13s\n",
      "    147       \u001b[36m0.74322\u001b[0m       1.61443      0.46036      0.70530  0.13s\n",
      "    148       \u001b[36m0.73874\u001b[0m       1.62310      0.45514      0.70049  0.13s\n",
      "    149       \u001b[36m0.73407\u001b[0m       1.61507      0.45451      0.70400  0.13s\n",
      "    150       \u001b[36m0.73388\u001b[0m       \u001b[32m1.59058\u001b[0m      0.46139      0.71012  0.13s\n",
      "    151       \u001b[36m0.72971\u001b[0m       1.60046      0.45594      0.70661  0.13s\n",
      "    152       \u001b[36m0.72899\u001b[0m       1.60577      0.45398      0.70570  0.13s\n",
      "    153       \u001b[36m0.72127\u001b[0m       1.61825      0.44571      0.69964  0.13s\n",
      "    154       0.72245       \u001b[32m1.59005\u001b[0m      0.45436      0.71096  0.13s\n",
      "    155       \u001b[36m0.71681\u001b[0m       1.59011      0.45079      0.70791  0.13s\n",
      "    156       0.71770       1.59363      0.45036      0.70791  0.13s\n",
      "    157       \u001b[36m0.70973\u001b[0m       1.60941      0.44099      0.70355  0.13s\n",
      "    158       0.71040       \u001b[32m1.58467\u001b[0m      0.44829      0.70921  0.13s\n",
      "    159       \u001b[36m0.70590\u001b[0m       \u001b[32m1.58045\u001b[0m      0.44664      0.70400  0.13s\n",
      "    160       \u001b[36m0.70558\u001b[0m       1.58655      0.44472      0.70225  0.13s\n",
      "    161       \u001b[36m0.69988\u001b[0m       1.60155      0.43700      0.70225  0.13s\n",
      "    162       \u001b[36m0.69699\u001b[0m       1.58555      0.43959      0.70530  0.13s\n",
      "    163       \u001b[36m0.69578\u001b[0m       \u001b[32m1.56796\u001b[0m      0.44375      0.71142  0.13s\n",
      "    164       \u001b[36m0.69281\u001b[0m       1.57508      0.43986      0.70355  0.13s\n",
      "    165       \u001b[36m0.69111\u001b[0m       1.58771      0.43528      0.70485  0.13s\n",
      "    166       \u001b[36m0.68471\u001b[0m       1.58996      0.43064      0.70355  0.13s\n",
      "    167       0.68607       \u001b[32m1.56084\u001b[0m      0.43955      0.71012  0.12s\n",
      "    168       \u001b[36m0.68079\u001b[0m       1.56405      0.43527      0.70661  0.13s\n",
      "    169       0.68171       1.57184      0.43370      0.70921  0.16s\n",
      "    170       \u001b[36m0.67381\u001b[0m       1.58481      0.42516      0.70355  0.13s\n",
      "    171       0.67547       \u001b[32m1.55709\u001b[0m      0.43380      0.71096  0.13s\n",
      "    172       \u001b[36m0.67009\u001b[0m       1.55829      0.43002      0.70836  0.13s\n",
      "    173       0.67139       1.56389      0.42931      0.70615  0.14s\n",
      "    174       \u001b[36m0.66382\u001b[0m       1.57796      0.42068      0.70095  0.13s\n",
      "    175       0.66427       \u001b[32m1.55514\u001b[0m      0.42714      0.70836  0.13s\n",
      "    176       \u001b[36m0.66067\u001b[0m       \u001b[32m1.54231\u001b[0m      0.42836      0.70927  0.13s\n",
      "    177       0.66102       1.55011      0.42644      0.71012  0.13s\n",
      "    178       \u001b[36m0.65602\u001b[0m       1.56477      0.41924      0.70010  0.13s\n",
      "    179       \u001b[36m0.65415\u001b[0m       1.55458      0.42079      0.70661  0.13s\n",
      "    180       \u001b[36m0.65223\u001b[0m       \u001b[32m1.54136\u001b[0m      0.42315      0.71057  0.13s\n",
      "    181       \u001b[36m0.64964\u001b[0m       1.55184      0.41862      0.70615  0.15s\n",
      "    182       \u001b[36m0.64748\u001b[0m       1.56249      0.41439      0.70270  0.19s\n",
      "    183       \u001b[36m0.64270\u001b[0m       1.55819      0.41247      0.70400  0.20s\n",
      "    184       0.64310       \u001b[32m1.52937\u001b[0m      0.42050      0.71317  0.14s\n",
      "    185       \u001b[36m0.63903\u001b[0m       1.53636      0.41594      0.71057  0.13s\n",
      "    186       0.64019       1.54043      0.41559      0.70836  0.17s\n",
      "    187       \u001b[36m0.63339\u001b[0m       1.54789      0.40920      0.70140  0.19s\n",
      "    188       0.63551       \u001b[32m1.52334\u001b[0m      0.41718      0.71012  0.17s\n",
      "    189       \u001b[36m0.62967\u001b[0m       1.53231      0.41093      0.71057  0.14s\n",
      "    190       0.63267       1.53785      0.41140      0.70706  0.13s\n",
      "    191       \u001b[36m0.62434\u001b[0m       1.54993      0.40282      0.69834  0.13s\n",
      "    192       0.62697       1.52402      0.41139      0.70661  0.13s\n",
      "    193       \u001b[36m0.62113\u001b[0m       1.52437      0.40747      0.71447  0.16s\n",
      "    194       0.62369       1.52978      0.40770      0.70836  0.18s\n",
      "    195       \u001b[36m0.61658\u001b[0m       1.54114      0.40008      0.69834  0.15s\n",
      "    196       0.61791       \u001b[32m1.51853\u001b[0m      0.40692      0.70530  0.16s\n",
      "    197       \u001b[36m0.61411\u001b[0m       \u001b[32m1.51209\u001b[0m      0.40613      0.71187  0.13s\n",
      "    198       0.61431       1.52161      0.40373      0.70576  0.13s\n",
      "    199       \u001b[36m0.60995\u001b[0m       1.53438      0.39753      0.70270  0.13s\n",
      "    200       \u001b[36m0.60850\u001b[0m       1.51914      0.40056      0.70400  0.14s\n"
     ]
    },
    {
     "data": {
      "text/plain": [
       "NeuralNet(X_tensor_type=None,\n",
       "     batch_iterator_test=<nolearn.lasagne.base.BatchIterator object at 0x1077bf150>,\n",
       "     batch_iterator_train=<nolearn.lasagne.base.BatchIterator object at 0x1077bf0d0>,\n",
       "     custom_score=None,\n",
       "     layers=[(<class 'lasagne.layers.input.InputLayer'>, {'shape': (None, 1, 2560, 1)}), (<class 'lasagne.layers.dense.DenseLayer'>, {'num_units': 42}), (<class 'lasagne.layers.dense.DenseLayer'>, {'num_units': 42}), (<class 'lasagne.layers.dense.DenseLayer'>, {'num_units': 7, 'nonlinearity': <function softmax at 0x1073529b0>})],\n",
       "     loss=None, max_epochs=200, more_params={},\n",
       "     objective=<function regularization_objective at 0x127ae3848>,\n",
       "     objective_lambda2=0.009,\n",
       "     objective_loss_function=<function categorical_crossentropy at 0x1074af758>,\n",
       "     on_batch_finished=[],\n",
       "     on_epoch_finished=[<nolearn.lasagne.handlers.PrintLog instance at 0x114b61830>],\n",
       "     on_training_finished=[],\n",
       "     on_training_started=[<nolearn.lasagne.handlers.PrintLayerInfo instance at 0x16a816dd0>],\n",
       "     regression=False,\n",
       "     train_split=<nolearn.lasagne.base.TrainSplit object at 0x16aa5e4d0>,\n",
       "     update=<function adam at 0x1074b7b18>, update_learning_rate=0.0001,\n",
       "     use_label_encoder=False, verbose=3,\n",
       "     y_tensor_type=TensorType(int32, vector))"
      ]
     },
     "execution_count": 280,
     "metadata": {},
     "output_type": "execute_result"
    }
   ],
   "source": [
    "net1.fit(X, y)"
   ]
  },
  {
   "cell_type": "code",
   "execution_count": 255,
   "metadata": {
    "collapsed": false
   },
   "outputs": [],
   "source": [
    "net1.save_params_to ('NN_model_with_preprocess')"
   ]
  },
  {
   "cell_type": "code",
   "execution_count": 256,
   "metadata": {
    "collapsed": true
   },
   "outputs": [],
   "source": [
    "def classify_pub_test(classifier):\n",
    "    '''\n",
    "    test = scipy.io.loadmat('public_test_images.mat')\n",
    "    print test\n",
    "    print test[\"public_test_images\"].shape\n",
    "    (x, y, n_images) = test[\"public_test_images\"].shape\n",
    "    test_img = np.reshape(np.swapaxes(test[\"public_test_images\"], 0, 2), (n_images, 1, x, y))\n",
    "    \n",
    "    test_img = np.array(test_img).astype(np.float32)\n",
    "    test_img -= test_img.mean()\n",
    "    test_img /= test_img.std()\n",
    "    '''\n",
    "    test = scipy.io.loadmat('public_test_filtered_no_normalization.mat')\n",
    "    pub_test = scipy.io.loadmat('./public_test_filtered_no_normalization.mat')\n",
    "    hid_test = scipy.io.loadmat('./hidden_test_images_filtered.mat')\n",
    "    (n_images, dim) = pub_test[\"public_test_images\"].shape\n",
    "    test_img = np.reshape(pub_test['public_test_images'], (n_images, 1, dim, 1))\n",
    "    test_img = np.array(test_img).astype(np.float32)\n",
    "    #test_img -= test_img.mean()\n",
    "    #test_img /= test_img.std()\n",
    "    pub_res = list(classifier.predict(test_img)+1)\n",
    "    \n",
    "    (n_images, dim) = hid_test[\"hidden_img\"].shape\n",
    "    test_img = np.reshape(hid_test[\"hidden_img\"], (n_images, 1, dim, 1))\n",
    "    test_img = np.array(test_img).astype(np.float32)\n",
    "    #test_img -= test_img.mean()\n",
    "    #test_img /= test_img.std()\n",
    "    hid_res = list(classifier.predict(test_img)+1)\n",
    "    return pub_res+hid_res"
   ]
  },
  {
   "cell_type": "code",
   "execution_count": 257,
   "metadata": {
    "collapsed": false
   },
   "outputs": [
    {
     "name": "stdout",
     "output_type": "stream",
     "text": [
      "[7, 7, 4, 7, 7, 7, 7, 7, 7, 7, 7, 7, 7, 7, 7, 7, 4, 7, 1, 4, 7, 4, 7, 7, 7, 7, 4, 7, 4, 7, 4, 4, 4, 2, 5, 7, 2, 1, 5, 2, 2, 2, 2, 2, 5, 7, 2, 1, 7, 4, 7, 7, 6, 7, 4, 7, 7, 7, 7, 7, 7, 7, 6, 7, 4, 6, 6, 7, 7, 3, 7, 7, 6, 7, 7, 4, 7, 6, 7, 1, 5, 7, 4, 4, 2, 7, 4, 2, 2, 3, 7, 4, 4, 4, 3, 3, 1, 1, 1, 6, 6, 6, 1, 6, 6, 6, 6, 6, 6, 6, 6, 1, 2, 4, 7, 1, 6, 3, 1, 2, 4, 7, 5, 6, 6, 1, 5, 4, 5, 6, 2, 1, 1, 4, 7, 6, 5, 2, 2, 4, 7, 5, 6, 3, 1, 2, 4, 7, 5, 6, 3, 2, 2, 4, 5, 6, 3, 5, 4, 7, 5, 3, 3, 1, 1, 4, 7, 5, 6, 6, 1, 2, 4, 7, 1, 6, 3, 1, 2, 4, 7, 5, 6, 6, 5, 2, 4, 7, 6, 1, 2, 4, 7, 7, 3, 1, 2, 4, 7, 5, 6, 3, 2, 2, 4, 7, 5, 6, 3, 2, 2, 4, 7, 5, 6, 4, 4, 5, 3, 3, 1, 4, 7, 5, 6, 7, 7, 4, 5, 3, 7, 1, 4, 5, 7, 2, 7, 7, 4, 5, 3, 2, 5, 1, 4, 5, 3, 2, 7, 7, 1, 1, 1, 1, 6, 7, 7, 7, 7, 7, 7, 7, 5, 2, 2, 2, 5, 1, 3, 3, 3, 3, 6, 6, 3, 4, 4, 3, 4, 4, 4, 4, 4, 4, 4, 4, 3, 7, 7, 7, 7, 7, 5, 3, 5, 5, 5, 5, 5, 5, 6, 6, 3, 6, 1, 1, 1, 1, 1, 1, 1, 2, 1, 2, 1, 7, 7, 7, 7, 7, 7, 7, 7, 4, 4, 7, 7, 2, 2, 2, 2, 2, 1, 1, 2, 2, 2, 2, 3, 3, 3, 3, 3, 3, 3, 7, 3, 4, 4, 4, 4, 4, 3, 4, 4, 4, 4, 4, 4, 4, 4, 4, 7, 7, 7, 7, 7, 1, 7, 7, 7, 7, 7, 7, 5, 5, 5, 5, 7, 5, 4, 2, 7, 6, 3, 6, 3, 3, 6, 1, 2, 3, 4, 7, 3, 7, 5, 4, 7, 7, 5, 6, 4, 2, 3, 3, 3, 3, 3, 4, 4, 3, 7, 7, 3, 3, 3, 2, 5, 7, 6, 7, 1, 3, 7, 1, 4, 7, 4, 7, 4, 7, 4, 7, 7, 4, 7, 4, 7, 4, 7, 4, 7, 4, 7, 4, 7, 4, 7, 4, 7, 7, 4, 7, 7, 7, 7, 7, 7, 7, 7, 7, 7, 7, 7, 7, 7, 7, 2, 7, 4, 7, 2, 7, 7, 7, 7, 7, 7, 7, 7, 7, 7, 7, 7, 7, 7, 5, 7, 4, 7, 7, 7, 7, 7, 7, 7, 7, 7, 4, 4, 7, 4, 4, 7, 7, 5, 4, 7, 4, 7, 7, 7, 7, 7, 4, 7, 7, 7, 4, 7, 7, 7, 7, 4, 7, 7, 2, 7, 4, 4, 7, 4, 7, 4, 7, 4, 7, 4, 7, 4, 7, 4, 7, 4, 7, 4, 7, 4, 7, 4, 7, 4, 7, 6, 5, 7, 1, 7, 3, 7, 7, 5, 3, 7, 7, 4, 7, 7, 7, 7, 7, 1, 1, 1, 2, 2, 2, 2, 7, 7, 1, 2, 6, 7, 5, 7, 4, 7, 7, 6, 7, 7, 1, 1, 7, 4, 6, 7, 7, 7, 7, 4, 1, 7, 6, 7, 4, 1, 6, 7, 5, 7, 7, 1, 7, 4, 7, 4, 7, 7, 7, 2, 3, 6, 7, 2, 7, 4, 6, 7, 7, 7, 2, 7, 6, 4, 7, 7, 7, 6, 7, 7, 4, 7, 7, 6, 7, 5, 1, 7, 7, 1, 7, 4, 6, 7, 7, 7, 2, 6, 7, 7, 7, 7, 7, 4, 7, 6, 2, 4, 7, 7, 7, 7, 1, 4, 7, 3, 7, 6, 7, 3, 7, 4, 7, 7, 7, 7, 6, 5, 2, 7, 4, 6, 7, 4, 7, 2, 7, 7, 7, 7, 7, 7, 4, 6, 4, 7, 7, 4, 6, 7, 5, 2, 7, 4, 6, 7, 7, 7, 7, 7, 4, 5, 6, 5, 4, 1, 3, 3, 7, 5, 4, 4, 5, 7, 1, 3, 6, 4, 7, 7, 7, 1, 7, 7, 7, 7, 7, 5, 7, 7, 7, 5, 5, 6, 6, 5, 6, 2, 2, 1, 2, 5, 2, 3, 3, 3, 4, 4, 4, 7, 7, 7, 2, 5, 6, 6, 6, 1, 1, 2, 2, 5, 3, 5, 2, 4, 4, 4, 7, 7, 3, 5, 3, 3, 6, 1, 1, 1, 2, 4, 5, 3, 3, 3, 3, 4, 4, 4, 6, 5, 5, 1, 6, 6, 6, 6, 5, 4, 7, 5, 6, 3, 3, 2, 4, 7, 5, 3, 3, 7, 5, 4, 7, 5, 6, 3, 2, 2, 4, 7, 5, 6, 3, 2, 4, 7, 3, 6, 3, 7, 2, 4, 7, 5, 6, 3, 1, 2, 4, 1, 5, 6, 5, 1, 2, 4, 7, 5, 6, 3, 1, 2, 4, 3, 5, 6, 6, 6, 2, 4, 5, 5, 6, 3, 1, 2, 4, 5, 6, 6, 1, 2, 4, 5, 6, 3, 1, 2, 4, 5, 6, 3, 2, 5, 4, 5, 5, 3, 1, 1, 2, 4, 7, 5, 6, 3, 5, 2, 4, 7, 5, 6, 3, 1, 2, 4, 5, 5, 3, 3, 1, 2, 4, 7, 5, 6, 2, 2, 4, 7, 5, 6, 3, 1, 2, 4, 7, 3, 3, 1, 2, 4, 7, 5, 6, 3, 1, 2, 4, 1, 5, 6, 1, 2, 4, 7, 5, 6, 3, 1, 2, 4, 5, 6, 6, 1, 5, 4, 5, 3, 1, 3, 4, 5, 6, 1, 1, 2, 4, 5, 6, 2, 4, 7, 5, 6, 3, 4, 5, 4, 5, 3, 7, 1, 2, 4, 7, 5, 6, 1, 5, 1, 2, 5, 1, 2, 2, 4, 3, 3, 7, 5, 6, 3, 4, 6, 4, 4, 4, 4, 4, 4, 5, 7, 5, 7, 1, 6, 6, 6, 3, 3, 6, 6, 3, 7, 7, 7, 2, 2, 2, 3, 4, 7, 7, 6, 6, 2, 7, 7, 1, 1, 1, 2, 2, 3, 4, 1, 4, 5, 3, 2, 7, 1, 4, 5, 3, 2, 7, 1, 4, 5, 3, 2, 5, 1, 4, 5, 2, 5, 1, 4, 5, 2, 7, 1, 4, 3, 1, 5, 1, 1, 1, 1, 1, 1, 7, 2, 1, 1, 7, 7, 7, 5, 7, 7, 7, 7, 7, 7, 5, 2, 2, 4, 2, 1, 2, 2, 2, 3, 5, 3, 3, 3, 6, 3, 7, 6, 3, 3, 3, 4, 4, 4, 4, 4, 4, 4, 4, 4, 4, 4, 4, 4, 4, 4, 4, 4, 4, 7, 3, 7, 3, 5, 7, 7, 7, 7, 7, 5, 6, 3, 5, 5, 5, 7, 5, 5, 5, 6, 6, 3, 6, 6, 5, 7, 2, 1, 3, 3, 4, 4, 4, 7, 5, 6, 1, 1, 2, 2, 3, 3, 6, 4, 2, 7, 7, 7, 5, 5, 5, 6, 6, 4, 6, 6, 5, 6, 4, 6, 7, 1, 5, 6, 5, 5, 1, 6, 1, 1, 1, 4, 2, 6, 7, 2, 2, 7, 1, 1, 4, 2, 1, 4, 1, 5, 5, 3, 7, 3]\n"
     ]
    }
   ],
   "source": [
    "classify_result = classify_pub_test(net1)\n",
    "cls_res_list = list(classify_result)\n",
    "print cls_res_list\n",
    "with open('submit_nn_sing_layer_90_units_100iter_non_normalized.csv', 'w') as f:\n",
    "    f.write('Id,Prediction\\n')\n",
    "    index = 1\n",
    "    for pred in cls_res_list:\n",
    "        f.write('%d,%d\\n'%(index, pred))\n",
    "        index += 1\n",
    "    while index<=1253:\n",
    "        f.write('%d,0\\n'%(index))\n",
    "        index+=1"
   ]
  },
  {
   "cell_type": "code",
   "execution_count": 258,
   "metadata": {
    "collapsed": false
   },
   "outputs": [
    {
     "data": {
      "text/plain": [
       "<module 'matplotlib.pyplot' from '/Users/zexuanwang/anaconda/lib/python2.7/site-packages/matplotlib/pyplot.pyc'>"
      ]
     },
     "execution_count": 258,
     "metadata": {},
     "output_type": "execute_result"
    },
    {
     "data": {
      "image/png": "[encoded data removed]",
      "text/plain": [
       "<matplotlib.figure.Figure at 0x168e18290>"
      ]
     },
     "metadata": {},
     "output_type": "display_data"
    }
   ],
   "source": [
    "from nolearn.lasagne.visualize import plot_loss\n",
    "from nolearn.lasagne.visualize import plot_conv_weights\n",
    "from nolearn.lasagne.visualize import plot_conv_activity\n",
    "from nolearn.lasagne.visualize import plot_occlusion\n",
    "plot_loss(net1)\n",
    "#plot_conv_activity(net1.layers_[1], X[0:1])"
   ]
  },
  {
   "cell_type": "code",
   "execution_count": null,
   "metadata": {
    "collapsed": true
   },
   "outputs": [],
   "source": []
  },
  {
   "cell_type": "code",
   "execution_count": null,
   "metadata": {
    "collapsed": true
   },
   "outputs": [],
   "source": []
  },
  {
   "cell_type": "code",
   "execution_count": null,
   "metadata": {
    "collapsed": true
   },
   "outputs": [],
   "source": []
  },
  {
   "cell_type": "code",
   "execution_count": null,
   "metadata": {
    "collapsed": true
   },
   "outputs": [],
   "source": []
  }
 ],
 "metadata": {
  "kernelspec": {
   "display_name": "Python 2",
   "language": "python",
   "name": "python2"
  },
  "language_info": {
   "codemirror_mode": {
    "name": "ipython",
    "version": 2
   },
   "file_extension": ".py",
   "mimetype": "text/x-python",
   "name": "python",
   "nbconvert_exporter": "python",
   "pygments_lexer": "ipython2",
   "version": "2.7.10"
  }
 },
 "nbformat": 4,
 "nbformat_minor": 0
}
